{
 "cells": [
  {
   "cell_type": "markdown",
   "source": [
    "##%% md\n",
    "# markdown演示\n",
    "# 一级（#后要空一格）\n",
    "## 二级\n",
    "[剩下的直接看原文](https://blog.csdn.net/TeFuirnever/article/details/104255022?spm=1001.2014.3001.5506)\n",
    "*斜体* **粗体**\n",
    "* 第一\n",
    "* 第二\n",
    "    * 第二.1"
   ],
   "metadata": {
    "collapsed": false
   }
  },
  {
   "cell_type": "markdown",
   "source": [
    ">引用\n",
    ">>引用\n",
    "~~删除线~~"
   ],
   "metadata": {
    "collapsed": false
   }
  },
  {
   "cell_type": "markdown",
   "source": [
    "### 折线图绘制:plt.plot(x,y)    x,y需是列表"
   ],
   "metadata": {
    "collapsed": false
   }
  },
  {
   "cell_type": "code",
   "execution_count": 1,
   "outputs": [
    {
     "data": {
      "text/plain": "<Figure size 432x288 with 1 Axes>",
      "image/png": "[encoded data removed]"
     },
     "metadata": {
      "needs_background": "light"
     },
     "output_type": "display_data"
    }
   ],
   "source": [
    "import matplotlib.pyplot as plt\n",
    "\n",
    "x = list()\n",
    "y = list()\n",
    "for i in range(5):\n",
    "    x.append(i)\n",
    "    y.append(i)\n",
    "plt.plot(x, y, \"g\", label=\"test\")\n",
    "plt.title(\"test\")\n",
    "plt.xlabel(\"weight\")\n",
    "plt.ylabel(\"height\")\n",
    "plt.show()"
   ],
   "metadata": {
    "collapsed": false
   }
  },
  {
   "cell_type": "markdown",
   "source": [
    "#### 同一张图画两根线"
   ],
   "metadata": {
    "collapsed": false
   }
  },
  {
   "cell_type": "markdown",
   "source": [],
   "metadata": {
    "collapsed": false
   }
  },
  {
   "cell_type": "code",
   "execution_count": 4,
   "outputs": [
    {
     "data": {
      "text/plain": "<Figure size 432x288 with 1 Axes>",
      "image/png": "[encoded data removed]"
     },
     "metadata": {
      "needs_background": "light"
     },
     "output_type": "display_data"
    }
   ],
   "source": [
    "import matplotlib.pyplot as plt\n",
    "\n",
    "x = list()\n",
    "y = list()\n",
    "z = list()\n",
    "for i in range(5):\n",
    "    x.append(i)\n",
    "    y.append(i)\n",
    "    z.append(5 - i)\n",
    "plt.plot(x, y, \"g\", label=\"test\")\n",
    "plt.plot(x, z, \"g\", label=\"test\")\n",
    "plt.title(\"test\")\n",
    "plt.xlabel(\"weight\")\n",
    "plt.ylabel(\"height\")\n",
    "plt.show()\n",
    "#   plt.plot(x, z, \"g\", label=\"test\")\n",
    "#   plt.show()  分开show就是画成两张图"
   ],
   "metadata": {
    "collapsed": false
   }
  },
  {
   "cell_type": "markdown",
   "source": [
    "### python类与引用"
   ],
   "metadata": {
    "collapsed": false
   }
  },
  {
   "cell_type": "code",
   "execution_count": 5,
   "outputs": [
    {
     "name": "stdout",
     "output_type": "stream",
     "text": [
      "maomao\n"
     ]
    }
   ],
   "source": [
    "class Cat:\n",
    "    def __init__(self, name):  #构造函数,self指向实例本身的引用(必须有该参数)\n",
    "        print(name)\n",
    "\n",
    "\n",
    "a = Cat(\"maomao\")\n"
   ],
   "metadata": {
    "collapsed": false
   }
  },
  {
   "cell_type": "markdown",
   "source": [
    "#### 创建类的成员"
   ],
   "metadata": {
    "collapsed": false
   }
  },
  {
   "cell_type": "code",
   "execution_count": 6,
   "outputs": [
    {
     "name": "stdout",
     "output_type": "stream",
     "text": [
      "喙，比较尖\n",
      "翅膀，比较大\n",
      "爪，行走自如\n",
      "很大\n"
     ]
    }
   ],
   "source": [
    "class Geese:\n",
    "    \"\"\"大雁类\"\"\"\n",
    "    wing = \"翅膀，比较大\"  #类的属性\n",
    "    claw = \"爪，行走自如\"\n",
    "\n",
    "    def __init__(self):\n",
    "        self.beak = \"喙，比较尖\"  #实例中定义类的属性：self.属性名\n",
    "        print(self.beak)  #实例中访问类的属性：self.属性名\n",
    "        print(self.wing)\n",
    "        print(self.claw)\n",
    "\n",
    "\n",
    "goose = Geese()  # 创建对象\n",
    "goose.wing = \"很大\"  # 修改类的对象\n",
    "print(goose.wing)"
   ],
   "metadata": {
    "collapsed": false
   }
  },
  {
   "cell_type": "markdown",
   "source": [
    "# 创建二维数组"
   ],
   "metadata": {
    "collapsed": false
   }
  },
  {
   "cell_type": "code",
   "execution_count": 8,
   "outputs": [
    {
     "name": "stdout",
     "output_type": "stream",
     "text": [
      "[[1 2 3]\n",
      " [4 5 6]]\n"
     ]
    }
   ],
   "source": [
    "import numpy as np\n",
    "aaa = np.array([[1,2,3],[4,5,6]])\n",
    "print(aaa)"
   ],
   "metadata": {
    "collapsed": false
   }
  },
  {
   "cell_type": "markdown",
   "source": [
    "### tensor和numpy的转化"
   ],
   "metadata": {
    "collapsed": false
   }
  },
  {
   "cell_type": "markdown",
   "source": [
    "#### tensor转numpy"
   ],
   "metadata": {
    "collapsed": false
   }
  },
  {
   "cell_type": "code",
   "execution_count": null,
   "outputs": [],
   "source": [
    "import torch\n",
    "\n",
    "a = torch.ones(6)\n",
    "b = a.numpy()\n",
    "print(a)\n",
    "print(b)\n"
   ],
   "metadata": {
    "collapsed": false
   }
  },
  {
   "cell_type": "markdown",
   "source": [
    "##### numpy转tensor"
   ],
   "metadata": {
    "collapsed": false
   }
  },
  {
   "cell_type": "code",
   "execution_count": null,
   "outputs": [],
   "source": [
    "import numpy as np\n",
    "\n",
    "a = np.ones(7)\n",
    "b = torch.from_numpy(a)\n",
    "print(a)\n",
    "print(b)"
   ],
   "metadata": {
    "collapsed": false
   }
  },
  {
   "cell_type": "markdown",
   "source": [
    "### 评估函数 F1"
   ],
   "metadata": {
    "collapsed": false
   }
  },
  {
   "cell_type": "code",
   "execution_count": null,
   "outputs": [],
   "source": [
    "import numpy as np\n",
    "\n",
    "\n",
    "def f1_loss(premask, groundtruth):  # 传入两个numpy,比对两个数组的1和0的不同\n",
    "    seg_inv, gt_inv = np.logical_not(premask), np.logical_not(groundtruth)\n",
    "    true_pos = float(np.logical_and(premask, groundtruth).sum())  # float for division\n",
    "    false_pos = np.logical_and(premask, gt_inv).sum()\n",
    "    false_neg = np.logical_and(seg_inv, groundtruth).sum()\n",
    "    f1 = 2 * true_pos / (2 * true_pos + false_pos + false_neg + 1e-6)\n",
    "    return f1\n",
    "\n",
    "\n",
    "a = np.array([[0, 1, 1], [1, 1, 1], [1, 1, 1]])  #\n",
    "b = np.array([[1, 1, 1], [1, 1, 1], [1, 1, 1]])  #\n",
    "c = f1_loss(a, b)\n",
    "print(c)"
   ],
   "metadata": {
    "collapsed": false
   }
  },
  {
   "cell_type": "code",
   "execution_count": null,
   "outputs": [],
   "source": [
    "import torch\n",
    "import torchvision.models as models\n",
    "import torch.nn.functional as F\n",
    "\n",
    "input_data = torch.randn(1, 3, 256, 256)\n",
    "\n",
    "\n",
    "def resnet_cifar(net, input_data):\n",
    "    x = net.conv1(input_data)\n",
    "    x = net.bn1(x)\n",
    "    x = F.relu(x)\n",
    "    x = net.layer1(x)\n",
    "    x = net.layer2(x)\n",
    "    x = net.layer3(x)\n",
    "    x = net.layer4[0].conv1(x)  #这样就提取了layer4第一块的第一个卷积层的输出\n",
    "    x = x.view(x.shape[0], -1)\n",
    "    return x\n",
    "\n",
    "\n",
    "model = models.resnet18()\n",
    "mm = resnet_cifar(model, input_data)\n",
    "\n"
   ],
   "metadata": {
    "collapsed": false
   }
  },
  {
   "cell_type": "code",
   "execution_count": null,
   "outputs": [],
   "source": [
    "def get_features(input, net, end=''):\n",
    "    x = input\n",
    "    x1, x2, x3, x4 = None, None, None, None\n",
    "    for index, layer in net.named_modules():\n",
    "        if index == 'down':\n",
    "            x = layer(x)\n",
    "            x1 = x\n",
    "        if index == 'down1':\n",
    "            x = layer(x)\n",
    "            x2 = x\n",
    "        if index == 'down2':\n",
    "            x = layer(x)\n",
    "            x3 = x\n",
    "        if index == 'down3':\n",
    "            x = layer(x)\n",
    "            x4 = x\n",
    "        if index == 'down4':\n",
    "            x = layer(x)\n",
    "        if index == 'up1':\n",
    "            x = layer(x, x4)\n",
    "        if index == 'up2':\n",
    "            x = layer(x, x3)\n",
    "        if index == 'up3':\n",
    "            x = layer(x, x2)\n",
    "        if index == 'up4':\n",
    "            x = layer(x, x1)\n",
    "        if index == 'out':\n",
    "            x = layer(x)\n",
    "        if index == end:\n",
    "            # save_feature_to_img(x, index, '')\n",
    "            return x\n"
   ],
   "metadata": {
    "collapsed": false
   }
  },
  {
   "cell_type": "markdown",
   "source": [
    "### 升维，降维（以后补）"
   ],
   "metadata": {
    "collapsed": false
   }
  },
  {
   "cell_type": "markdown",
   "source": [
    "#### extend()"
   ],
   "metadata": {
    "collapsed": false
   }
  },
  {
   "cell_type": "code",
   "execution_count": null,
   "outputs": [],
   "source": [
    "\n",
    "a = [1, 2, 3]\n",
    "b = [4, 5]\n",
    "a.append(b)\n",
    "print(a)"
   ],
   "metadata": {
    "collapsed": false
   }
  },
  {
   "cell_type": "code",
   "execution_count": null,
   "outputs": [],
   "source": [
    "# extend:将b拆开加到a的末尾\n",
    "a = [1, 2, 3]\n",
    "b = [4, 5]\n",
    "a.extend(b)\n",
    "print(a)"
   ],
   "metadata": {
    "collapsed": false
   }
  },
  {
   "cell_type": "markdown",
   "source": [
    "#### item()函数———items() 函数以列表返回可遍历的(键, 值) 元组。————将字典中的键值对以元组存储，并将众多元组存在列表中。\n"
   ],
   "metadata": {
    "collapsed": false
   },
   "execution_count": 1
  },
  {
   "cell_type": "code",
   "execution_count": null,
   "outputs": [],
   "source": [
    "favorite_places = {'A': '1', 'B': '2', 'C': '3'}\n",
    "print(favorite_places.items())\n",
    "for key, value in favorite_places.items():\n",
    "    print(key, value)"
   ],
   "metadata": {
    "collapsed": false
   }
  },
  {
   "cell_type": "markdown",
   "source": [
    "### os.path.join() 从第一个绝对路径（开头是“/”的）开始拼接，再之前的路径舍弃掉"
   ],
   "metadata": {
    "collapsed": false
   }
  },
  {
   "cell_type": "code",
   "execution_count": null,
   "outputs": [],
   "source": [
    "import os\n",
    "\n",
    "path = r'/E/'\n",
    "\n",
    "aaa = os.path.join(path, \"anan/app\")  #注意：要在第一个路径最后加一个“/”，否则输出/E\\./anan/app,拼接不成功\n",
    "print(aaa)"
   ],
   "metadata": {
    "collapsed": false
   }
  },
  {
   "cell_type": "markdown",
   "source": [
    "# 绝对路径：文件在硬盘上存储的真正路径     <硬盘符>\\<目录1>\\<目录2>…\\<文件名>    C:\\cat1\\cat2\\test.txt\n",
    "# 相对路径：从当前文件位置出发，指向目标文件的路径   ./<目录1>/<目录2>…/<文件名>    ./cat1/cat2/test.txt\n",
    "# 访问上一级路径：../        ../../root.html"
   ],
   "metadata": {
    "collapsed": false
   }
  },
  {
   "cell_type": "markdown",
   "source": [
    "#   image/1.jpg     相对路径(当前目录下的文件)\n",
    "#   /image/1.jpg    绝对路径(根目录下的文件)\n",
    "#   ./image/1.jpg   相对路径\n",
    "#   ../image/1.jpg  上一级"
   ],
   "metadata": {
    "collapsed": false
   }
  },
  {
   "cell_type": "code",
   "execution_count": null,
   "outputs": [],
   "source": [
    "a = '/1/2/3'\n",
    "a.lstrip('/')\n",
    "print(a)"
   ],
   "metadata": {
    "collapsed": false
   }
  },
  {
   "cell_type": "code",
   "execution_count": null,
   "outputs": [],
   "source": [
    "path = '/data/dataset-verse20training/rawdata/'\n",
    "print(path.lstrip('/'))"
   ],
   "metadata": {
    "collapsed": false
   }
  },
  {
   "cell_type": "code",
   "execution_count": null,
   "outputs": [],
   "source": [
    "a = 'data/dataset-verse20training/rawdata'\n",
    "b = a.replace('/', '\\\\')\n",
    "print(b)"
   ],
   "metadata": {
    "collapsed": false
   }
  },
  {
   "cell_type": "markdown",
   "source": [
    "#  json 格式详解"
   ],
   "metadata": {
    "collapsed": false
   }
  },
  {
   "cell_type": "markdown",
   "source": [
    "##### dict -> json  用json.dump() 将obj转化为json字符串"
   ],
   "metadata": {
    "collapsed": false
   },
   "execution_count": 1
  },
  {
   "cell_type": "code",
   "execution_count": null,
   "outputs": [],
   "source": [
    "import json\n",
    "\n",
    "sample = {'one': 1, 'two': 2, 'three': 3}\n",
    "jsondata = json.dumps(sample)  # 将obj序列化为JSON格式的str。\n",
    "print(jsondata)"
   ],
   "metadata": {
    "collapsed": false
   }
  },
  {
   "cell_type": "markdown",
   "source": [
    "# re库详解"
   ],
   "metadata": {
    "collapsed": false
   }
  },
  {
   "cell_type": "code",
   "execution_count": null,
   "outputs": [],
   "source": [
    "import re\n",
    "\n",
    "text = \"你说得对，但是，原。所以说？\"\n",
    "str = re.sub(r\"[a-zA-Z0-9\\,]\", '', text)\n",
    "print(str)"
   ],
   "metadata": {
    "collapsed": false
   }
  },
  {
   "cell_type": "code",
   "execution_count": null,
   "outputs": [],
   "source": [
    "import re\n",
    "\n",
    "text = \"你说得对，但是，原。所以说？\"\n",
    "str = re.sub(r'，', '', text)\n",
    "print(str)"
   ],
   "metadata": {
    "collapsed": false
   }
  },
  {
   "cell_type": "code",
   "execution_count": null,
   "outputs": [],
   "source": [
    "import re\n",
    "\n",
    "text = \"你说得对，但是，原。所以说？\"\n",
    "print(re.sub(r'[，。]', '', text))\n"
   ],
   "metadata": {
    "collapsed": false
   }
  },
  {
   "cell_type": "code",
   "execution_count": null,
   "outputs": [],
   "source": [
    "import re\n",
    "\n",
    "line = 'dogs are smarter than cats'\n",
    "sentence = 'bob and food or rooot'\n",
    "ret = re.match(r'(.*) are (.*)', line)\n",
    "if ret:\n",
    "    print(ret.group())  # 返回none代表不匹配，如果匹配则返回一个类，用.group()可以输出类\n",
    "ret_1 = re.search(r'o{1}', line)  # 匹配1个o\n",
    "print(ret_1.group())\n",
    "\n",
    "print()\n",
    "print(re.search(r'o{1}', sentence).group())\n",
    "print(re.search(r'o{2}', sentence).group())\n",
    "print(re.search(r'o{2,}', sentence).group())\n"
   ],
   "metadata": {
    "collapsed": false
   }
  },
  {
   "cell_type": "code",
   "execution_count": null,
   "outputs": [],
   "source": [
    "import re\n",
    "\n",
    "line = '1254-1455-555 # 外国号码'\n",
    "ret_1 = re.sub(r'#(.*)', '', line)\n",
    "print(ret_1)  # 不再返回group()，返回的是切后的字符串\n",
    "ret_2 = re.sub(r'[^0-9]', '', line)\n",
    "print(ret_2)\n",
    "ret_3 = re.sub(r'[0-9],-]', '', line)  # ??如何去除多种字符\n",
    "print(ret_3)"
   ],
   "metadata": {
    "collapsed": false
   }
  },
  {
   "cell_type": "code",
   "execution_count": null,
   "outputs": [],
   "source": [
    "import re\n",
    "\n",
    "line = '123 abc 123 123 aaa 1 11 29 3 好好好 ,.\\n'\n",
    "#\n",
    "# print(re.sub(r'[a-z1-9_]','*',line))    #匹配字母数字下划线\n",
    "#\n",
    "# print(re.sub(r'[^a-z]','*',line))\n",
    "#\n",
    "# print(re.sub(r'.','*',line))        # 相当于[^\\n\\r],匹配换行符以外的任意字符\n",
    "#\n",
    "# print(re.sub(r'[^\\S]','*',line))    #\\s为匹配空格\n",
    "#\n",
    "# print(re.sub(r'(123*)','*',line))   # 可以匹配*前的表达式一次或多次\n",
    "#\n",
    "# print(re.sub(r'123','*',line))      # 匹配字符串‘123’\n",
    "#\n",
    "# print(re.sub(r'[123]','*',line))    # 匹配字符1或2或3\n",
    "\n",
    "print(re.sub(r'1{2}', '*', line))  #限制两个1(11) 的时候匹配\n",
    "\n",
    "print(re.sub(r'[0-9]{1,2}', '*', line))  # 匹配0~99,即0~9的数字两个同时出现在一起\n",
    "\n",
    "print(re.sub(r'1(23){0,1}', '*', line))\n",
    "print(re.sub(r'1(23)?', '*', line))\n",
    "print(re.sub(r'1', '*', line))\n",
    "print(re.sub(r'1{0,1}', '*', line))"
   ],
   "metadata": {
    "collapsed": false
   }
  },
  {
   "cell_type": "markdown",
   "source": [
    "# 匹配数字"
   ],
   "metadata": {
    "collapsed": false
   }
  },
  {
   "cell_type": "code",
   "execution_count": null,
   "outputs": [],
   "source": [
    "import re\n",
    "\n",
    "line = '0  1  22 555  39'\n",
    "\n",
    "print(re.sub(r'o', '*', sentence))  #一次匹配一个\n",
    "print(re.sub(r'o{1,}', '*', sentence))  #一次匹配多个 {0,}即一次匹配0个，匹配不上时移动一格算匹配一次。\n",
    "\n",
    "print(re.sub(r'8989', '*', sentence))\n",
    "\n",
    "print(re.sub(r'\\s[1-9][0-9]\\s{0,1}', '*', line))  # 匹配0~99 不过需要首末都为空格，否则如123就会先匹配12后匹配3.\n",
    "print(re.sub(r'\\s[1-9]{0,1}[0-9]{0,1}\\s', '*', line))"
   ],
   "metadata": {
    "collapsed": false
   }
  },
  {
   "cell_type": "markdown",
   "source": [
    "# 匹配前缀，以z开头的所有字符串\n",
    "## 限定符{}限定出现次数，？={0，1}，*={0，}，+={1，}"
   ],
   "metadata": {
    "collapsed": false
   }
  },
  {
   "cell_type": "code",
   "execution_count": null,
   "outputs": [],
   "source": [
    "import re\n",
    "\n",
    "line = 'z zo zoo zooo a ab abc'\n",
    "print(re.sub(r'z(o){0,}', '*', line))  # (o){0,}表示让o这个字符串出现0~n次\n",
    "print(re.sub(r'z(o){1,}|z', '*', line))  # 用了|来表达或"
   ],
   "metadata": {
    "collapsed": false
   }
  },
  {
   "cell_type": "markdown",
   "source": [
    "# 处理文件路径，将//改为\\"
   ],
   "metadata": {
    "collapsed": false
   }
  },
  {
   "cell_type": "code",
   "execution_count": null,
   "outputs": [],
   "source": [
    "import re\n",
    "\n",
    "line = 'E\\\\DATA\\\\IMPORT/DOWNLODE/MARKDOWN'\n",
    "print(re.sub(r'(\\\\){1,}', '/', line))  #注意\\字符需要转意义"
   ],
   "metadata": {
    "collapsed": false
   }
  },
  {
   "cell_type": "markdown",
   "source": [
    "# 匹配括号里的内容\n",
    "### 注意这里的匹配为贪婪机制，即是匹配包裹最大的括号。"
   ],
   "metadata": {
    "collapsed": false
   }
  },
  {
   "cell_type": "code",
   "execution_count": null,
   "outputs": [],
   "source": [
    "import re\n",
    "\n",
    "line = '()(123 12 abc) 111 23 45 (145 2 ll)'\n",
    "sentence = '<11<111> haha hh <222 11 n>'\n",
    "print(re.sub('\\(.*\\)', '*', line))  # 贪婪，将整个外面的括号一起匹配进来\n",
    "\n",
    "print(re.sub('\\(.*?\\)', '*', line))  # .意为匹配除了换行符外的所有字符,.{1,}意为匹配任意字一次以上\n",
    "\n",
    "print(re.sub('<.*?>', '*', sentence))  # ?表示\n"
   ],
   "metadata": {
    "collapsed": false
   }
  },
  {
   "cell_type": "markdown",
   "source": [
    "# 匹配email"
   ],
   "metadata": {
    "collapsed": false
   }
  },
  {
   "cell_type": "code",
   "execution_count": null,
   "outputs": [],
   "source": [
    "import re\n",
    "\n",
    "mail = '1234 2608224156@qq.com abcd'\n",
    "print(re.sub('[0-9a-zA-Z]{1,}@[0-9a-zA-Z]{1,}\\.[0-9a-zA-Z]{1,}', '*', mail))\n",
    "print(re.sub('[\\w]{1,}@[\\w]{1,}\\.[\\w]{1,}', '*', mail))"
   ],
   "metadata": {
    "collapsed": false
   }
  },
  {
   "cell_type": "markdown",
   "source": [
    "# dataframe 的保存_____df.to_csv()______没有路径则会自动创建"
   ],
   "metadata": {
    "collapsed": false
   }
  },
  {
   "cell_type": "code",
   "execution_count": null,
   "outputs": [],
   "source": [
    "import pandas as pd\n",
    "\n",
    "data = {'Site': ['Google', 'Runoob', 'Wiki'], 'Age': [10, 12, 13]}\n",
    "df = pd.DataFrame(data, index=[\"No.1\", \"No.2\", \"No.3\"])\n",
    "print(df)\n",
    "\n",
    "df.to_csv('data/preprocess/preprocess_1.csv', index=True, header=True)"
   ],
   "metadata": {
    "collapsed": false
   }
  },
  {
   "cell_type": "markdown",
   "source": [
    "## lambda函数的使用_____配合dataframe做表的处理（用df.apply()来遍历）"
   ],
   "metadata": {
    "collapsed": false
   }
  },
  {
   "cell_type": "code",
   "execution_count": null,
   "outputs": [],
   "source": [
    "func = lambda x: x + 1 if x == 1 else 0\n",
    "print(func(1))\n",
    "print(func(2))\n",
    "\n",
    "import pandas as pd\n",
    "\n",
    "data = {'Site': ['aa', 'bb', 'cc', 'dd'], 'p': [0.85, 0.92, 0.52, 0.23]}\n",
    "df_1 = pd.DataFrame(data)\n",
    "print(df)\n",
    "print(\"\\n\")\n",
    "df_2 = df_1['p'].apply(lambda x: '{:.0%}'.format(x))\n",
    "print(df_2)\n"
   ],
   "metadata": {
    "collapsed": false
   }
  },
  {
   "cell_type": "markdown",
   "source": [
    "# os.path操作____按顺序创建文件夹"
   ],
   "metadata": {
    "collapsed": false
   }
  },
  {
   "cell_type": "code",
   "execution_count": null,
   "outputs": [],
   "source": [
    "num = len(os.listdir('data/preprocess'))\n",
    "print(num)\n",
    "if not os.path.exists('data/preprocess/preprocess_{}'.format(num)):\n",
    "    os.makedirs('data/preprocess/preprocess_{}'.format(num))"
   ],
   "metadata": {
    "collapsed": false
   }
  },
  {
   "cell_type": "markdown",
   "source": [
    "# numpy高维数组切片"
   ],
   "metadata": {
    "collapsed": false
   }
  },
  {
   "cell_type": "code",
   "execution_count": null,
   "outputs": [],
   "source": [
    "import numpy as np\n",
    "\n",
    "arr = np.array([[[1, 2, 3, 5], [1, 2, 3, 6]], [[1, 2, 3, 5], [1, 7, 8, 9]], [[2, 4, 5, 6], [6, 7, 8, 9]]])\n",
    "print(arr)\n",
    "print()\n",
    "print(arr.shape)\n",
    "#\n",
    "# # 高维切片操作\n",
    "# print()\n",
    "# print(arr[1:2,1:2,1:2])             # 表示对每一维度都取索引1到索引2的元素\n",
    "# print(arr[1:2,1:2,1:2].shape)\n",
    "#\n",
    "#\n",
    "# print()\n",
    "# print(arr[1,:,:])\n",
    "# print(arr[1,:,:].shape)         # 截取第一个维度\n",
    "#\n",
    "#\n",
    "# print()\n",
    "# print(arr[1,:,:])\n",
    "# print(arr[:,:,1].shape)     # 截取第三个维度\n",
    "\n",
    "for i in range(arr.shape[0]):\n",
    "    print(arr[i, :, :])"
   ],
   "metadata": {
    "collapsed": false
   }
  },
  {
   "cell_type": "markdown",
   "source": [
    "### 像[::2]这种的"
   ],
   "metadata": {
    "collapsed": false
   }
  },
  {
   "cell_type": "code",
   "execution_count": null,
   "outputs": [],
   "source": [
    "import numpy as np\n",
    "\n",
    "arr = np.array([1, 2, 3, 4, 5, 6, 7, 8, 9])\n",
    "print(arr[::3])  #最后的数字代表跳跃的步长"
   ],
   "metadata": {
    "collapsed": false
   }
  },
  {
   "cell_type": "markdown",
   "source": [
    "# 遍历二维数组"
   ],
   "metadata": {
    "collapsed": false
   }
  },
  {
   "cell_type": "code",
   "execution_count": null,
   "outputs": [],
   "source": [
    "import numpy as np\n",
    "arr = np.zeros((3, 255, 255))  # (C,H,W)\n",
    "for i in range(arr.shape[0]):\n",
    "    print(arr[i, :, :])"
   ],
   "metadata": {
    "collapsed": false
   }
  },
  {
   "cell_type": "markdown",
   "source": [
    "# numpy reshape函数\n",
    "### 不改变值只改变形状\n",
    "## reshape(-1,1)  转化成一列\n",
    "## reshape(1,-1)  转化成一行\n",
    "## reshape(2,-1)  转化成两行"
   ],
   "metadata": {
    "collapsed": false
   }
  },
  {
   "cell_type": "code",
   "execution_count": null,
   "outputs": [],
   "source": [
    "import numpy as np\n",
    "\n",
    "a = np.arange(8)\n",
    "print ('原始数组：')\n",
    "print (a)\n",
    "print ('\\n')\n",
    "\n",
    "b = a.reshape(-1,2)\n",
    "print ('修改后的数组：')\n",
    "print (b)\n",
    "print(b.shape)"
   ],
   "metadata": {
    "collapsed": false
   }
  },
  {
   "cell_type": "markdown",
   "source": [
    "# numpy transpose函数\n",
    "### 对换数组的维度\n",
    "### np.transpose(arr,[2,1,0])  第二个参数为一个列表"
   ],
   "metadata": {
    "collapsed": false
   }
  },
  {
   "cell_type": "code",
   "execution_count": null,
   "outputs": [],
   "source": [
    "import numpy as np\n",
    "\n",
    "a = np.arange(24).reshape(2,3,4)\n",
    "\n",
    "print ('原数组：')\n",
    "print (a)\n",
    "print ('\\n')\n",
    "\n",
    "print ('对换数组：')\n",
    "print (np.transpose(a,[1,0,2]))"
   ],
   "metadata": {
    "collapsed": false
   }
  },
  {
   "cell_type": "markdown",
   "source": [
    "#  numpy squeeze函数\n",
    "### 从数组的形状中删除一维条目"
   ],
   "metadata": {
    "collapsed": false
   }
  },
  {
   "cell_type": "code",
   "execution_count": null,
   "outputs": [],
   "source": [
    "import numpy as np\n",
    "a = np.arange(2).reshape(1,1,2)\n",
    "print(a)\n",
    "print(a.shape)\n",
    "b = np.squeeze(a)\n",
    "print(b)"
   ],
   "metadata": {
    "collapsed": false
   }
  },
  {
   "cell_type": "markdown",
   "source": [
    "# tensor_flatten操作"
   ],
   "metadata": {
    "collapsed": false
   }
  },
  {
   "cell_type": "markdown",
   "source": [],
   "metadata": {
    "collapsed": false
   }
  },
  {
   "cell_type": "code",
   "execution_count": null,
   "outputs": [],
   "source": [
    "import torch\n",
    "a = torch.tensor([[1,2,3,4],[5,6,7,8],[9,10,11,12]])\n",
    "print(a.shape)\n",
    "b = torch.flatten(a,1)\n",
    "print(b)"
   ],
   "metadata": {
    "collapsed": false
   }
  },
  {
   "cell_type": "code",
   "execution_count": null,
   "outputs": [],
   "source": [
    "import torch\n",
    "a = torch.tensor([[1,2,3,4],[5,6,7,8],[9,10,11,12]])\n",
    "print(a.shape)\n",
    "b = torch.flatten(a,1)\n",
    "print(b)"
   ],
   "metadata": {
    "collapsed": false
   }
  },
  {
   "cell_type": "markdown",
   "source": [
    "# jieba和停用词的使用"
   ],
   "metadata": {
    "collapsed": false
   }
  },
  {
   "cell_type": "code",
   "execution_count": null,
   "outputs": [],
   "source": [
    "import jieba\n",
    "\n",
    "line = '我真的要回家了'\n",
    "aaa = jieba.cut(line)  # 返回的是一个可迭代对象要用join->str或是list()\n",
    "sentence = list(jieba.cut(line))\n",
    "print(' '.join(aaa))\n",
    "print(sentence)\n",
    "\n",
    "stopwords = list()\n",
    "with open('data/stopwords/哈工大停用词表.txt', encoding='utf-8') as f:  # 之前一直读不下来，结果是忘了加utf-8\n",
    "    for word in f.read().split('\\n'):\n",
    "        stopwords.append(word)\n",
    "\n",
    "for word in sentence:\n",
    "    if word in stopwords:\n",
    "        sentence.remove(word)\n",
    "print(sentence)"
   ],
   "metadata": {
    "collapsed": false
   }
  },
  {
   "cell_type": "markdown",
   "source": [
    "# BOW使用_____生成句向量列表，不过是以词频为基础，区别于onehot"
   ],
   "metadata": {
    "collapsed": false
   }
  },
  {
   "cell_type": "code",
   "execution_count": null,
   "outputs": [],
   "source": [
    "from sklearn.feature_extraction.text import CountVectorizer\n",
    "\n",
    "X_test = ['you are good', 'you are also better', 'but we do not fit']\n",
    "vectorizer = CountVectorizer()\n",
    "count = vectorizer.fit_transform(X_test)\n",
    "\n",
    "print('count:{}'.format(count))\n",
    "print('\\ncount.toarray()')\n",
    "#  生成词向量列表，不过是以词频为基础，区别于onehot\n",
    "\n",
    "\n",
    "print('\\nvectorizer.get_feature_names()')\n",
    "print(vectorizer.get_feature_names())\n",
    "\n",
    "print('\\nvectorizer.vocabulary_')\n",
    "print(vectorizer.vocabulary_)\n",
    "\n",
    "\n"
   ],
   "metadata": {
    "collapsed": false
   }
  },
  {
   "cell_type": "markdown",
   "source": [
    "# TF-IDF__关键词抽取"
   ],
   "metadata": {
    "collapsed": false
   }
  },
  {
   "cell_type": "code",
   "execution_count": null,
   "outputs": [],
   "source": [
    "from jieba import analyse\n",
    "\n",
    "TF_IDF = analyse.extract_tags\n",
    "\n",
    "sentence = '线程是程序执行时的最小单位，它是进程的一个执行流，是 CPU 调度和分派的基本单位，一个进程可以由很多个线程组成，''线程间共享进程的所有资源，每个线程有自己的堆栈和局部变量。''线程由 CPU 独立调度执行，在多 CPU 环境下就允许多个线程同时运行。''同样多线程也可以实现并发操作，每个请求分配一个线程来处理。'\n",
    "print()\n",
    "aaa = TF_IDF(sentence, withWeight=True)\n",
    "print(aaa)"
   ],
   "metadata": {
    "collapsed": false
   }
  },
  {
   "cell_type": "code",
   "execution_count": null,
   "outputs": [],
   "source": [
    "import numpy as np\n",
    "\n",
    "aaa = np.array([[1, 2], [3, 4], [5, 6], [7, 8], [9, 10]])\n",
    "print(aaa)\n",
    "print(aaa[:, 0] + aaa[:, 0])"
   ],
   "metadata": {
    "collapsed": false
   }
  },
  {
   "cell_type": "markdown",
   "source": [
    "## class__属性引用:obj.name"
   ],
   "metadata": {
    "collapsed": false
   }
  },
  {
   "cell_type": "code",
   "execution_count": null,
   "outputs": [],
   "source": [
    "class Myclass:\n",
    "    i = 12345\n",
    "\n",
    "    def f(self):\n",
    "        return 'hello'\n",
    "\n",
    "\n",
    "# 实例化类\n",
    "x = Myclass()\n",
    "\n",
    "# 访问类的属性\n",
    "print(x.i)\n",
    "# 访问类的方法\n",
    "print(x.f())"
   ],
   "metadata": {
    "collapsed": false
   }
  },
  {
   "cell_type": "markdown",
   "source": [
    "## 构造函数__init__()方法\n",
    "### self为类的一个实例而不是类，类的方法规定类必须多一个参数且该参数为self放在第一个\n",
    "### 类的私有属性__row 类外无法直接访问"
   ],
   "metadata": {
    "collapsed": false
   }
  },
  {
   "cell_type": "code",
   "execution_count": null,
   "outputs": [],
   "source": [
    "class Complex:\n",
    "    __row = 0\n",
    "\n",
    "    def __init__(self, r, i, row):\n",
    "        self.r = r\n",
    "        self.i = i\n",
    "\n",
    "\n",
    "x = Complex(1, 2, 3)\n",
    "print('{} + {}i'.format(x.r, x.i))"
   ],
   "metadata": {
    "collapsed": false
   }
  },
  {
   "cell_type": "markdown",
   "source": [
    "# 继承\n",
    "### 子类会继承父类的属性和方法\n",
    "### super().XXX___调用父类(超类)的一个方法"
   ],
   "metadata": {
    "collapsed": false
   }
  },
  {
   "cell_type": "code",
   "execution_count": null,
   "outputs": [],
   "source": [
    "class people:\n",
    "    name = ''\n",
    "    age = 0\n",
    "    __weight = 0\n",
    "\n",
    "    def __init__(self, n, a, w):\n",
    "        self.name = n\n",
    "        self.age = a\n",
    "\n",
    "    def showing(self):\n",
    "        print('name:{},age:{}'.format(self.name, self.age))\n",
    "\n",
    "    def show_age(self):\n",
    "        print(self.age)\n",
    "\n",
    "\n",
    "class student(people):\n",
    "    grade = ''\n",
    "\n",
    "    def __init__(self, n, a, w, g):\n",
    "        super(people, self).__init__(n, a, w)  # super(后父类函数内不用再写self)\n",
    "        # people.__init__(self, n, a, w)      # 调用父类的构造函数(于super()等价)\n",
    "        self.grade = g\n",
    "\n",
    "    def showing(self):\n",
    "        people.showing(self)  # 调用父类的方法\n",
    "        print('grade:{}'.format(self.grade))\n",
    "\n",
    "    # 覆盖了父类的方法(直接写一个同名函数)\n",
    "    def show_age(self):\n",
    "        self.age = self.age - 5\n",
    "        print(self.age)\n",
    "haha = student('haha', 21, 66, 'undergraduate')\n",
    "haha.showing()\n",
    "haha.show_age()"
   ],
   "metadata": {
    "collapsed": false
   }
  },
  {
   "cell_type": "markdown",
   "source": [
    "# 类的可迭代方法__getitem__()  可以像list()一样,直接用[]获取元素"
   ],
   "metadata": {
    "collapsed": false
   }
  },
  {
   "cell_type": "code",
   "execution_count": null,
   "outputs": [],
   "source": [
    "class fib:\n",
    "    def __getitem__(self, idx):\n",
    "        a = 0\n",
    "        b = 1\n",
    "        for i in range(idx):\n",
    "            a, b = b, a + b\n",
    "        return a\n",
    "\n",
    "aa = fib()\n",
    "print(aa[5])"
   ],
   "metadata": {
    "collapsed": false
   }
  },
  {
   "cell_type": "markdown",
   "source": [
    "# matplotlib_解析\n",
    "### 在matplotlib中，整个图像为一个Figure对象。在Figure对象中可以包含一个或者多个Axes对象。每个Axes(ax)对象都是一个拥有自己坐标系统的绘图区域。\n"
   ],
   "metadata": {
    "collapsed": false
   }
  },
  {
   "cell_type": "code",
   "execution_count": null,
   "outputs": [],
   "source": [
    "import matplotlib.pyplot as plt\n",
    "\n",
    "fig_1 = plt.figure()\n",
    "fig_2 = plt.figure()\n",
    "\n",
    "axes_1 = fig_1.add_axes([0.1,0.1,0.8,0.8])\n",
    "axes_2 = fig_2.add_axes([0.1,0.1,0.8,0.8])\n",
    "\n",
    "x=[3,4,5] # [列表]\n",
    "y=[2,3,2] # x,y元素个数N应相同\n",
    "axes_1.plot(x,y,'g')\n",
    "axes_2.plot(y,x,'g')\n",
    "plt.show()"
   ],
   "metadata": {
    "collapsed": false
   }
  },
  {
   "cell_type": "code",
   "execution_count": null,
   "outputs": [],
   "source": [
    "import matplotlib.pyplot as plt\n",
    "from pylab import *\n",
    "x = linspace(0, 5, 10)\n",
    "y = x ** 2\n",
    "\n",
    "fig = plt.figure()\n",
    "\n",
    "axes = fig.add_axes([0.1, 0.1, 0.8, 0.8]) # left, bottom, width, height (range 0 to 1) 前两个参数表示在figure中的位置\n",
    "axes2 = fig.add_axes([0.4, 0.5, 0.5, 0.4]) # inset axes\n",
    "\n",
    "axes.plot(x, y, 'r')#参数3 为设置颜色\n",
    "\n",
    "axes.set_xlabel('x')\n",
    "axes.set_ylabel('y')\n",
    "axes.set_title('title')\n",
    "\n",
    "# insert\n",
    "axes2.plot(y, x, 'g')\n",
    "axes2.set_xlabel('y')\n",
    "axes2.set_ylabel('x')\n",
    "axes2.set_title('insert title')\n",
    "fig.savefig('result/loss/aaa.png', dpi = 600)  # obj.savefig()来保存\n",
    "plt.show()\n"
   ],
   "metadata": {
    "collapsed": false
   }
  },
  {
   "cell_type": "code",
   "execution_count": null,
   "outputs": [],
   "source": [
    "import numpy as np\n",
    "aaa = np.array([[1,2,3,4,5],[6,7,8,9,10],[11,212,13,14,15],[16,17,18,19,20]])\n",
    "bbb = list()\n",
    "for i in range(aaa.shape[0]):\n",
    "    bbb.append(aaa[i])\n",
    "\n",
    "for idx,slice in enumerate(bbb) :\n",
    "    print(bbb[idx])"
   ],
   "metadata": {
    "collapsed": false
   }
  },
  {
   "cell_type": "markdown",
   "source": [
    "### to.device解析"
   ],
   "metadata": {
    "collapsed": false
   }
  },
  {
   "cell_type": "markdown",
   "source": [
    "# 指定设备在GPU上运行\n",
    "device=torch.device(\"cuda\")\n",
    "# 指定模型在设备上运行\n",
    "model=model.to(device)\n",
    "# 将GPU保存的模型加载到GPU上\n",
    "device = torch.device(\"cuda\")\n",
    "model = TheModelClass(*args, **kwargs)\n",
    "model.load_state_dict(torch.load(PATH))\n",
    "model.to(device)\n",
    "## 输入模型的数据也要todevice"
   ],
   "metadata": {
    "collapsed": false
   }
  },
  {
   "cell_type": "markdown",
   "source": [
    "# 魔术方法__init__(),__len__(),__getitem__()\n",
    "### 写的很好"
   ],
   "metadata": {
    "collapsed": false
   },
   "execution_count": 1
  },
  {
   "cell_type": "code",
   "execution_count": null,
   "outputs": [],
   "source": [
    "class Fun:\n",
    "    def __init__(self, x_list):\n",
    "        \"\"\" initialize the class instance\n",
    "        Args:\n",
    "            x_list: data with list type\n",
    "        Returns:\n",
    "            None\n",
    "        \"\"\"\n",
    "        if not isinstance(x_list, list):\n",
    "            raise ValueError(\"input x_list is not a list type\")\n",
    "        self.data = x_list\n",
    "        print(\"intialize success\")\n",
    "\n",
    "    def __getitem__(self, idx):\n",
    "        print(\"__getitem__ is called\")\n",
    "        return self.data[idx]\n",
    "\n",
    "    def __len__(self):\n",
    "        print(\"__len__ is called\")\n",
    "        return len(self.data)\n",
    "\n",
    "fun = Fun(x_list=[1, 2, 3, 4, 5])\n",
    "print(fun[2])\n",
    "print(len(fun))"
   ],
   "metadata": {
    "collapsed": false
   }
  },
  {
   "cell_type": "markdown",
   "source": [
    "# 光标变粗:键盘锁住情况按0"
   ],
   "metadata": {
    "collapsed": false
   }
  },
  {
   "cell_type": "code",
   "execution_count": null,
   "outputs": [],
   "source": [
    "import struct\n",
    "import numpy as np\n",
    "\n",
    "def load_mnist_train():\n",
    "    labels_path = 'data/minist/train_mask/train-labels.idx1-ubyte'\n",
    "    images_path = 'data/minist/train_img/train-images.idx3-ubyte'\n",
    "    with open(labels_path, 'rb') as lbpath:\n",
    "        magic, n = struct.unpack('>II', lbpath.read(8))\n",
    "        labels = np.fromfile(lbpath, dtype=np.uint8)\n",
    "    with open(images_path, 'rb') as imgpath:\n",
    "        magic, num, rows, cols = struct.unpack('>IIII', imgpath.read(16))\n",
    "        images = np.fromfile(imgpath, dtype=np.uint8).reshape(len(labels), 784)\n",
    "    return images, labels\n",
    "\n",
    "def load_mnist_test():\n",
    "    labels_path = 'data/minist/test_mask/t10k-labels.idx1-ubyte'\n",
    "    images_path = 'data/minist/test_img/t10k-images.idx3-ubyte'\n",
    "    with open(labels_path, 'rb') as lbpath:\n",
    "        magic, n = struct.unpack('>II', lbpath.read(8))\n",
    "        labels = np.fromfile(lbpath, dtype=np.uint8)\n",
    "    with open(images_path, 'rb') as imgpath:\n",
    "        magic, num, rows, cols = struct.unpack('>IIII', imgpath.read(16))\n",
    "        images = np.fromfile(imgpath, dtype=np.uint8).reshape(len(labels), 784)\n",
    "    return images, labels\n",
    "img_list,img_label = load_mnist_train()\n",
    "img = list()\n",
    "for i in range(30):\n",
    "    img.append(img_list[i].reshape(-1,1,28,28))\n"
   ],
   "metadata": {
    "collapsed": false
   }
  },
  {
   "cell_type": "markdown",
   "source": [
    "# tensor 转为int"
   ],
   "metadata": {
    "collapsed": false
   }
  },
  {
   "cell_type": "code",
   "execution_count": null,
   "outputs": [],
   "source": [
    "import torch\n",
    "import numpy as np\n",
    "# int -> tensor -> int\n",
    "a = torch.tensor(1)\n",
    "b = a.item()\n",
    "\n",
    "# list -> tensor(cpu)\n",
    "l0 = [1, 2, 3]\n",
    "t = torch.tensor(l0)\n",
    "\n",
    "# tensor(cpu) -> numpy -> list\n",
    "a = t.numpy()\n",
    "l1 = t.numpy().tolist()\n",
    "\n",
    "# list -> numpy\n",
    "a0 = np.array(l0)\n",
    "\n",
    "# numpy -> tensor(cpu)\n",
    "t1 = torch.from_numpy(a0)\n",
    "\n",
    "# tensor(cpu) -> tensor(cuda)\n",
    "tc = t1.cuda()\n",
    "\n",
    "# tensor(cuda) -> list\n",
    "l2 = tc.cpu().numpy().tolist()\n"
   ],
   "metadata": {
    "collapsed": false
   }
  },
  {
   "cell_type": "markdown",
   "source": [
    "# loss传入的两个参数为模型的输出和mask(mask直接是从迭代器哪里拿过来的就是tensor形式)\n",
    "### 注意，两个参数都应该是tensor形式"
   ],
   "metadata": {
    "collapsed": false
   }
  },
  {
   "cell_type": "code",
   "execution_count": null,
   "outputs": [],
   "source": [
    "import torch as th\n",
    "import torch.nn as nn\n",
    "\n",
    "loss=nn.L1Loss()\n",
    "\n",
    "input=th.Tensor([2,3,4,5])\n",
    "target=th.Tensor([4,5,6,7])\n",
    "output=loss(input,target)\n",
    "\n",
    "print(output)"
   ],
   "metadata": {
    "collapsed": false
   }
  },
  {
   "cell_type": "markdown",
   "source": [
    "# 读取模型的参数"
   ],
   "metadata": {
    "collapsed": false
   }
  },
  {
   "cell_type": "code",
   "execution_count": null,
   "outputs": [],
   "source": [
    "import torch\n",
    "path = 'result/models/minist/Epoch10_LS-0.001_DC-0.991.pth'\n",
    "state_dict = torch.load(path)\n",
    "for key, value in state_dict.items():  # k 参数名 v 对应参数值\n",
    "        print('{}\\t\\t{}\\n{}'.format(key,value.shape,value))\n",
    "        print()\n",
    "        print()"
   ],
   "metadata": {
    "collapsed": false
   }
  },
  {
   "cell_type": "markdown",
   "source": [
    "# 测试模型时\n",
    "### model.train()启用Dropout层和batch normalization层\n",
    "### model.eval()关闭Dropout层和batch normalization层\n",
    "### torch.no_grad()来关闭梯度的计算"
   ],
   "metadata": {
    "collapsed": false
   }
  },
  {
   "cell_type": "code",
   "execution_count": null,
   "outputs": [],
   "source": [
    "# evaluate model:\n",
    "model.eval()\n",
    "\n",
    "with torch.no_grad():\n",
    "    ...\n",
    "    out_data = model(data)\n",
    "    ..."
   ],
   "metadata": {
    "collapsed": false
   }
  },
  {
   "cell_type": "code",
   "execution_count": null,
   "outputs": [],
   "source": [
    "# to.device()\n",
    "device = torch.device(\"cuda:0\" if torch.cuda.is_available() else \"cpu\")\n",
    "model = model.to(device)\n",
    "img = img.to(device)"
   ],
   "metadata": {
    "collapsed": false
   }
  },
  {
   "cell_type": "code",
   "execution_count": null,
   "outputs": [],
   "source": [
    "a=torch.Tensor([[[1,2,3],[4,5,6]]])\n",
    "b=torch.Tensor([1,2,3,4,5,6])\n",
    "\n",
    "print(a.view(1,6))\n",
    "print(b.view(1,6))\n"
   ],
   "metadata": {
    "collapsed": false
   }
  },
  {
   "cell_type": "code",
   "execution_count": null,
   "outputs": [],
   "source": [
    "# output = input.view(batch_size,-1)\n",
    "x = x.view(batchsize, -1)中batchsize指转换后有几行，而-1指在不告诉函数有多少列的情况下，根据原tensor数据和batchsize自动分配列数"
   ],
   "metadata": {
    "collapsed": false
   }
  },
  {
   "cell_type": "markdown",
   "source": [
    "# Normalization"
   ],
   "metadata": {
    "collapsed": false
   }
  },
  {
   "cell_type": "code",
   "execution_count": null,
   "outputs": [],
   "source": [
    "import SimpleITK as sitk\n",
    "import matplotlib.pyplot as plt\n",
    "import numpy as np\n",
    "import os\n",
    "img_dir = 'data/dataset-verse20training/rawdata/sub-verse557/sub-verse557_dir-ax_ct.nii.gz'\n",
    "ground_truth = 'data/dataset-verse20training/derivatives/sub-verse557/sub-verse557_dir-ax_seg-vert_msk.nii.gz'\n",
    "sitk_img = sitk.ReadImage(img_dir)\n",
    "ground_truth = sitk.ReadImage(ground_truth)\n",
    "sitk_img = resize_image_itk(sitk_img, (64, 64, 64), resamplemethod=sitk.sitkNearestNeighbor)\n",
    "ground_truth = resize_image_itk(ground_truth, (64, 64, 64), resamplemethod=sitk.sitkNearestNeighbor)\n",
    "ground_truth = sitk.GetArrayFromImage(ground_truth)\n",
    "volume = sitk.GetArrayFromImage(sitk_img)\n",
    "mask = seg > 0 # 生成前景mask\n",
    "voxels = list(data[c][mask][::10])"
   ],
   "metadata": {
    "collapsed": false
   }
  },
  {
   "cell_type": "code",
   "execution_count": null,
   "outputs": [],
   "source": [
    "import numpy as np\n",
    "aaa = np.array([[0,0,1],[0,1,0],[1,0,1],[0,0,0]])\n",
    "print(aaa)\n",
    "mask = aaa>0\n",
    "print(mask)"
   ],
   "metadata": {
    "collapsed": false
   }
  },
  {
   "cell_type": "code",
   "execution_count": null,
   "outputs": [],
   "source": [
    "import os\n",
    "num = len(os.listdir('nn_1'))\n",
    "if not os.path.exists('nn_1/20'):\n",
    "    os.makedirs('nn_1/{}'.format(num))"
   ],
   "metadata": {
    "collapsed": false
   }
  },
  {
   "cell_type": "code",
   "execution_count": null,
   "outputs": [],
   "source": [
    "#!/usr/bin/python\n",
    "# -*- coding: UTF-8 -*-\n",
    "\n",
    "import os, sys\n",
    "\n",
    "# 列出目录\n",
    "print(\"目录为: %s\"%os.listdir(os.getcwd('nn_1')))\n",
    "\n",
    "# 重命名\n",
    "os.rename(\"test\",\"test2\")\n",
    "\n",
    "print(\"重命名成功。\")\n",
    "\n",
    "# 列出重命名后的目录\n",
    "print(\"目录为: %s\" %os.listdir(os.getcwd()))\n"
   ],
   "metadata": {
    "collapsed": false
   }
  },
  {
   "cell_type": "markdown",
   "source": [
    "# 读取nii文件地址"
   ],
   "metadata": {
    "collapsed": false
   }
  },
  {
   "cell_type": "code",
   "execution_count": null,
   "outputs": [],
   "source": [
    "import os\n",
    "import re\n",
    "img = []\n",
    "img_dir = './data/dataset-verse20training/rawdata/'\n",
    "for file in os.listdir(img_dir):\n",
    "    bbb = os.listdir(img_dir+file)              # os.listdir将该目录下的所有文件写进一个列表中，如果要读路径下已有多少文件应用len(os.listdir())\n",
    "    for nii_file in bbb:\n",
    "        if re.search('.nii.gz',nii_file):       # 匹配是否带有.nii.gz的后缀\n",
    "            img.append(img_dir+file+nii_file)\n",
    "for i in img:\n",
    "    print(i)"
   ],
   "metadata": {
    "collapsed": false
   }
  },
  {
   "cell_type": "markdown",
   "source": [
    "# 设置新的文件名"
   ],
   "metadata": {
    "collapsed": false
   }
  },
  {
   "cell_type": "code",
   "execution_count": null,
   "outputs": [],
   "source": [
    "import os\n",
    "\n",
    "path = 'nn_1'\n",
    "\n",
    "#获取该目录下所有文件，存入列表中\n",
    "f= os.listdir(path)\n",
    "\n",
    "for i in f:\n",
    "\n",
    "    #设置旧文件名（就是路径+文件名）\n",
    "    old_name = path + '/'+ i\n",
    "\n",
    "    #设置新文件名\n",
    "    new_name = path + '/nn_1_'+i\n",
    "\n",
    "    #用os模块中的rename方法对文件改名\n",
    "    os.rename(old_name,new_name)"
   ],
   "metadata": {
    "collapsed": false
   }
  },
  {
   "cell_type": "markdown",
   "source": [
    "# 移动文件并且重命名"
   ],
   "metadata": {
    "collapsed": false
   }
  },
  {
   "cell_type": "code",
   "execution_count": null,
   "outputs": [],
   "source": [
    "import os\n",
    "import re\n",
    "\n",
    "path = 'TRY_formal'\n",
    "\n",
    "\n",
    "def make_the_dir():  # 一开始上面两个函数都要执行一下，相当于初始化\n",
    "    if not os.path.exists(path):\n",
    "        os.makedirs(path)\n",
    "    for i in range(20):\n",
    "        num = len(os.listdir(path))\n",
    "        if not os.path.exists(path + '/No.{}'.format(num)):\n",
    "            os.makedirs(path + '/No.{}'.format(num))\n",
    "\n",
    "\n",
    "# 获取该目录下所有文件，存入列表中\n",
    "def rename_the_dir():\n",
    "    new = 'GOOD'\n",
    "    file = os.listdir(path)\n",
    "    for i in file:\n",
    "        old_name = path + '/' + i       # 设置旧文件名（就是路径+文件名）\n",
    "        new_name = path + '/' + new + i     # 设置新文件名\n",
    "\n",
    "        os.rename(old_name, new_name)       # 用os模块中的rename方法对文件改名\n",
    "\n",
    "import shutil\n",
    "# os.remove是删除的意思\n",
    "def move_the_file():\n",
    "    former_path = 'TRY_formal'\n",
    "    latter_path = 'TRY_latter'\n",
    "    aaa = os.listdir(former_path)\n",
    "    for file in aaa:\n",
    "        shutil.move(former_path+'/'+file, latter_path+'/'+file)\n",
    "        num_2 = len(os.listdir(latter_path))\n",
    "        os.rename(latter_path+'/'+file, latter_path+'/{}'.format(num_2))\n",
    "\n",
    "if __name__ == \"__main__\":\n",
    "    # make_the_dir()\n",
    "    # rename_the_dir()\n",
    "    move_the_file()"
   ],
   "metadata": {
    "collapsed": false
   }
  },
  {
   "cell_type": "markdown",
   "source": [
    "# 高斯权重"
   ],
   "metadata": {
    "collapsed": false
   }
  },
  {
   "cell_type": "code",
   "execution_count": 9,
   "outputs": [
    {
     "data": {
      "text/plain": "<matplotlib.image.AxesImage at 0x20eb9e3afd0>"
     },
     "execution_count": 9,
     "metadata": {},
     "output_type": "execute_result"
    },
    {
     "data": {
      "text/plain": "<Figure size 432x288 with 1 Axes>",
      "image/png": "[encoded data removed]"
     },
     "metadata": {
      "needs_background": "light"
     },
     "output_type": "display_data"
    }
   ],
   "source": [
    "import numpy as np\n",
    "from scipy.ndimage.filters import gaussian_filter\n",
    "\n",
    "def get_gaussian(s :tuple, sigma=1.0/8) -> np.ndarray:\n",
    "\ttemp = np.zeros(s)\n",
    "\tcoords = [i // 2 for i in s]\n",
    "\tsigmas = [i * sigma for i in s]\n",
    "\ttemp[tuple(coords)] = 1\n",
    "\tgaussian_map = gaussian_filter(temp, sigmas, 0, mode='constant', cval=0)\n",
    "\tgaussian_map /= np.max(gaussian_map)\n",
    "\treturn gaussian_map\n",
    "\n",
    "\n",
    "import matplotlib.pyplot as plt\n",
    "aaa = get_gaussian((64, 64),2000)\n",
    "fig = plt.figure()\n",
    "plt.imshow(aaa)\n"
   ],
   "metadata": {
    "collapsed": false
   }
  },
  {
   "cell_type": "code",
   "execution_count": 10,
   "outputs": [
    {
     "ename": "NameError",
     "evalue": "name 'Image' is not defined",
     "output_type": "error",
     "traceback": [
      "\u001B[1;31m---------------------------------------------------------------------------\u001B[0m",
      "\u001B[1;31mNameError\u001B[0m                                 Traceback (most recent call last)",
      "Input \u001B[1;32mIn [10]\u001B[0m, in \u001B[0;36m<cell line: 14>\u001B[1;34m()\u001B[0m\n\u001B[0;32m     11\u001B[0m \t\u001B[38;5;28;01mreturn\u001B[39;00m gaussian_map\n\u001B[0;32m     14\u001B[0m \u001B[38;5;28;01mif\u001B[39;00m \u001B[38;5;18m__name__\u001B[39m \u001B[38;5;241m==\u001B[39m \u001B[38;5;124m'\u001B[39m\u001B[38;5;124m__main__\u001B[39m\u001B[38;5;124m'\u001B[39m:\n\u001B[1;32m---> 15\u001B[0m \timg \u001B[38;5;241m=\u001B[39m \u001B[43mImage\u001B[49m\u001B[38;5;241m.\u001B[39mopen(\u001B[38;5;124m'\u001B[39m\u001B[38;5;124m./imgs/test.bmp\u001B[39m\u001B[38;5;124m'\u001B[39m)\n\u001B[0;32m     16\u001B[0m \timg \u001B[38;5;241m=\u001B[39m np\u001B[38;5;241m.\u001B[39marray(img)\n\u001B[0;32m     17\u001B[0m \tpatchSize \u001B[38;5;241m=\u001B[39m np\u001B[38;5;241m.\u001B[39marray((\u001B[38;5;241m64\u001B[39m,\u001B[38;5;241m64\u001B[39m))\n",
      "\u001B[1;31mNameError\u001B[0m: name 'Image' is not defined"
     ]
    }
   ],
   "source": [
    "\n",
    "import numpy as np\n",
    "from scipy.ndimage.filters import gaussian_filter\n",
    "\n",
    "def get_gaussian(s :tuple, sigma=1.0/8) -> np.ndarray:\n",
    "\ttemp = np.zeros(s)\n",
    "\tcoords = [i // 2 for i in s]\n",
    "\tsigmas = [i * sigma for i in s]\n",
    "\ttemp[tuple(coords)] = 1\n",
    "\tgaussian_map = gaussian_filter(temp, sigmas, 0, mode='constant', cval=0)\n",
    "\tgaussian_map /= np.max(gaussian_map)\n",
    "\treturn gaussian_map\n",
    "\n",
    "\n",
    "if __name__ == '__main__':\n",
    "\timg = Image.open('./imgs/test.bmp')\n",
    "\timg = np.array(img)\n",
    "\tpatchSize = np.array((64,64))\n",
    "\tpatchStride = patchSize // 2\n",
    "\n",
    "\tresult = np.zeros(img.shape)\n",
    "\tnormalization = np.zeros(img.shape)\n",
    "\tgaussian_map = get_gaussian(patchSize)\n",
    "\tfor i in range(0, img.shape[0]-patchSize[0]+1, patchStride[0]):\n",
    "\t\tfor j in range(0, img.shape[1]-patchSize[1]+1, patchStride[1]):\n",
    "\t\t\tpatch = img[i:i+patchSize[0],j:j+patchSize[1]].astype(np.float32)\n",
    "\t\t\tpatch *= gaussian_map\n",
    "\t\t\tnormalization[i:i+patchSize[0],j:j+patchSize[1]] += gaussian_map\n",
    "\t\t\tresult[i:i+patchSize[0],j:j+patchSize[1]] += patch\n",
    "\tresult /= normalization\n",
    "\tplt.imshow(result,cmap=plt.get_cmap('gray'))\n",
    "\tplt.xticks([])\n",
    "\tplt.yticks([])\n",
    "\tplt.show()"
   ],
   "metadata": {
    "collapsed": false
   }
  },
  {
   "cell_type": "code",
   "execution_count": null,
   "outputs": [],
   "source": [
    "import numpy as np\n",
    "import cv2\n",
    "path = 'data/image/114514.jpg'\n",
    "img = cv2.imread(path)\n",
    "img = np.array(img)\n",
    "cv2.imshow(\"img\", img)\n",
    "cv2.waitKey(10)"
   ],
   "metadata": {
    "collapsed": false
   }
  },
  {
   "cell_type": "markdown",
   "source": [
    "# 按位与"
   ],
   "metadata": {
    "collapsed": false
   }
  },
  {
   "cell_type": "code",
   "execution_count": null,
   "outputs": [],
   "source": [
    "a = 3   # 0011\n",
    "b = 5   # 0101\n",
    "print(a & b)    # 0001"
   ],
   "metadata": {
    "collapsed": false
   }
  },
  {
   "cell_type": "markdown",
   "source": [],
   "metadata": {
    "collapsed": false
   }
  },
  {
   "cell_type": "markdown",
   "source": [
    "# 百分位点"
   ],
   "metadata": {
    "collapsed": false
   }
  },
  {
   "cell_type": "code",
   "execution_count": null,
   "outputs": [],
   "source": [
    "import numpy as np\n",
    "a = [[2,3,6],[10,11,12]]\n",
    "print(np.percentile(a,[0,25,50,75,100]))\n",
    "print(np.percentile(a,[0,50,100],axis =0))"
   ],
   "metadata": {
    "collapsed": false
   }
  },
  {
   "cell_type": "markdown",
   "source": [
    "# plt读取图片呈numpy格式"
   ],
   "metadata": {
    "collapsed": false
   }
  },
  {
   "cell_type": "code",
   "execution_count": null,
   "outputs": [],
   "source": [
    "import matplotlib.pyplot as plt\n",
    "import os\n",
    "num = len(os.listdir('result/featuremap'))\n",
    "\n",
    "img = plt.imread('data/image/114514.jpg', format=None)    # format读取文件格式，None为自动读取,读下来是numpy形式\n",
    "print(img.shape)\n",
    "plt.imshow(img)\n",
    "plt.imsave('result/featuremap/'+str(num)+'.png', img)\n",
    "plt.show()\n"
   ],
   "metadata": {
    "collapsed": false
   }
  },
  {
   "cell_type": "markdown",
   "source": [
    "# plt去掉坐标轴\n",
    "### plt.axis('off')"
   ],
   "metadata": {
    "collapsed": false
   }
  },
  {
   "cell_type": "markdown",
   "source": [
    "# 切成patch再还原为原图"
   ],
   "metadata": {
    "collapsed": false
   }
  },
  {
   "cell_type": "code",
   "execution_count": null,
   "outputs": [],
   "source": [
    "import os\n",
    "import matplotlib.pyplot as plt\n",
    "import numpy as np\n",
    "from patchify import patchify, unpatchify\n",
    "patch_size = 64\n",
    "patch_step = 32\n",
    "\n",
    "\n",
    "img = plt.imread(\"data/image/0.png\", format=None)\n",
    "img = np.transpose(img, [2, 0, 1])\n",
    "patches = patchify(img, (3, 64, 64), step=32)  # split image into 2*3 small 2*2 patches.\n",
    "for i in range(patches.shape[1]):\n",
    "    for j in range(patches.shape[2]):\n",
    "        patch = patches[:, i, j, :, :]\n",
    "        patch = np.squeeze(patch)\n",
    "        patch = np.transpose(patch, [1, 2, 0])\n",
    "        patchimg_num = len(os.listdir('result/featuremap'))\n",
    "        plt.imsave('result/featuremap/' + str(patchimg_num) + '.png', patch)\n",
    "\n",
    "patch_num = int((img.shape[1]-patch_size)/patch_step) + 1\n",
    "new_img_size = (patch_num-1)*patch_step+patch_size\n",
    "\n",
    "assert patches.shape == (2, 3, 2, 2)\n",
    "reconstructed_image = unpatchify(patches, (3, new_img_size, new_img_size))\n",
    "reconstructed_image = np.transpose(reconstructed_image, [1, 2, 0])\n",
    "patchimg_num = len(os.listdir('result/featuremap'))\n",
    "\n",
    "plt.imsave('result/featuremap/' + str(patchimg_num) + '.png', reconstructed_image)"
   ],
   "metadata": {
    "collapsed": false
   }
  },
  {
   "cell_type": "code",
   "execution_count": null,
   "outputs": [],
   "source": [
    "import numpy as np\n",
    "aaa = np.array([[1,0,1],[0,1,0],[1,1,5]])\n",
    "bbb = aaa>0\n",
    "print(bbb)\n",
    "ccc = np.array([[1,2,3],[4,5,6],[7,8,9]])\n",
    "ddd = ccc*bbb\n",
    "print(ddd)"
   ],
   "metadata": {
    "collapsed": false
   }
  },
  {
   "cell_type": "markdown",
   "source": [
    "## csv文件追加写"
   ],
   "metadata": {
    "collapsed": false
   },
   "execution_count": 1
  },
  {
   "cell_type": "code",
   "execution_count": 3,
   "outputs": [],
   "source": [
    "import csv\n",
    "\n",
    "\n",
    "# 如果不写 newline=''，csv文件生成的时候，里面会每隔一行出现一个空白行\n",
    "def write_csv():\n",
    "    with open(r'write_down.csv', 'a+', newline='', encoding='utf8') as f:\n",
    "        csv_write = csv.writer(f)\n",
    "        data_row = [\"1\", \"2\"]\n",
    "        csv_write.writerow(data_row)\n",
    "\n",
    "write_csv()"
   ],
   "metadata": {
    "collapsed": false
   }
  },
  {
   "cell_type": "markdown",
   "source": [
    "## numpy.append(a, value=b, aix=0)"
   ],
   "metadata": {
    "collapsed": false
   }
  },
  {
   "cell_type": "code",
   "execution_count": 2,
   "outputs": [
    {
     "name": "stdout",
     "output_type": "stream",
     "text": [
      "[ 0  1  2  3  4  5  8  9 10 11 12 13]\n",
      "\n",
      "[[ 0  1  2]\n",
      " [ 3  4  5]\n",
      " [ 8  9 10]\n",
      " [11 12 13]]\n",
      "\n",
      "[[ 0  1  2  8  9 10]\n",
      " [ 3  4  5 11 12 13]]\n"
     ]
    }
   ],
   "source": [
    "import numpy as np\n",
    "aaa = np.arange(0, 6).reshape(2, 3)\n",
    "bbb = np.arange(8, 14).reshape(2, 3)\n",
    "ccc = np.append(aaa, values=bbb)    # 不指名行和列就会拉成一排\n",
    "ddd = np.append(aaa, values=bbb, axis=0)    # 按行拼接\n",
    "eee = np.append(aaa, values=bbb, axis=1)    # 按列拼接\n",
    "print(ccc)\n",
    "print()\n",
    "print(ddd)\n",
    "print()\n",
    "print(eee)"
   ],
   "metadata": {
    "collapsed": false
   }
  },
  {
   "cell_type": "markdown",
   "source": [
    "# numpy.insert()"
   ],
   "metadata": {
    "collapsed": false
   }
  },
  {
   "cell_type": "code",
   "execution_count": 10,
   "outputs": [
    {
     "name": "stdout",
     "output_type": "stream",
     "text": [
      "[[0.]]\n",
      "\n",
      "[[0 1 2]\n",
      " [0 0 0]\n",
      " [3 4 5]]\n",
      "\n",
      "[[0 1 0 2]\n",
      " [3 4 0 5]]\n"
     ]
    }
   ],
   "source": [
    "import numpy as np\n",
    "aaa = np.arange(0, 6).reshape(2, 3)\n",
    "bbb = np.arange(8, 14).reshape(2, 3)\n",
    "ccc = np.zeros(shape=(1, 1))\n",
    "ddd = np.insert(aaa, obj=1, values=ccc, axis=0)\n",
    "eee = np.insert(aaa, obj=2, values=ccc, axis=1)\n",
    "print(ccc)\n",
    "print()\n",
    "print(ddd)\n",
    "print()\n",
    "print(eee)"
   ],
   "metadata": {
    "collapsed": false
   }
  },
  {
   "cell_type": "markdown",
   "source": [
    "# numpy.delete()"
   ],
   "metadata": {
    "collapsed": false
   }
  },
  {
   "cell_type": "code",
   "execution_count": 11,
   "outputs": [
    {
     "name": "stdout",
     "output_type": "stream",
     "text": [
      "[[0 1 2]]\n",
      "\n",
      "[[0 2]\n",
      " [3 5]]\n"
     ]
    }
   ],
   "source": [
    "import numpy as np\n",
    "aaa = np.arange(0, 6).reshape(2, 3)\n",
    "bbb = np.arange(8, 14).reshape(2, 3)\n",
    "ccc = np.zeros(shape=(1, 1))\n",
    "ddd = np.delete(aaa, 1, axis= 0)    # 删除行,第二行\n",
    "eee = np.delete(aaa, 1, axis= 1)    # 删除列,第二列\n",
    "print(ddd)\n",
    "print()\n",
    "print(eee)\n"
   ],
   "metadata": {
    "collapsed": false
   }
  },
  {
   "cell_type": "markdown",
   "source": [
    "# 将由array组成的列表转化为array"
   ],
   "metadata": {
    "collapsed": false
   }
  },
  {
   "cell_type": "code",
   "execution_count": 12,
   "outputs": [
    {
     "name": "stdout",
     "output_type": "stream",
     "text": [
      "(2, 2, 2, 2)\n"
     ]
    }
   ],
   "source": [
    "import numpy as np\n",
    "\n",
    "aaa = np.arange(0, 8).reshape(2, 2, 2)\n",
    "aaa = aaa.tolist()\n",
    "bbb = np.arange(8, 16).reshape(2, 2, 2)\n",
    "bbb = bbb.tolist()\n",
    "\n",
    "ccc = list()\n",
    "ccc.append(aaa)\n",
    "ccc.append(ccc)\n",
    "\n",
    "ddd = np.array(ccc, dtype=object)   # 不加dtype=object有warning222\n",
    "print(ddd.shape)"
   ],
   "metadata": {
    "collapsed": false
   }
  },
  {
   "cell_type": "markdown",
   "source": [
    "# numpy翻转"
   ],
   "metadata": {
    "collapsed": false
   }
  },
  {
   "cell_type": "code",
   "execution_count": 9,
   "outputs": [
    {
     "name": "stdout",
     "output_type": "stream",
     "text": [
      "[[0 1 2]\n",
      " [3 4 5]\n",
      " [6 7 8]]\n",
      "[[8 7 6]\n",
      " [5 4 3]\n",
      " [2 1 0]]\n"
     ]
    }
   ],
   "source": [
    "import numpy as np\n",
    "aaa = np.arange(0,9).reshape(3,3)\n",
    "print(aaa)\n",
    "print(np.flip(aaa))"
   ],
   "metadata": {
    "collapsed": false
   }
  },
  {
   "cell_type": "code",
   "execution_count": 1,
   "outputs": [
    {
     "name": "stdout",
     "output_type": "stream",
     "text": [
      "1\n"
     ]
    }
   ],
   "source": [
    "a = 1\n",
    "print(a)\n",
    "\n",
    "\n",
    "\n",
    "\n",
    "\n",
    "f = open('text.out', 'w')\n",
    "for i in range(100):\n",
    "    print(str(i), file=f)\n",
    "f.close()\n"
   ],
   "metadata": {
    "collapsed": false
   }
  },
  {
   "cell_type": "markdown",
   "source": [],
   "metadata": {
    "collapsed": false
   }
  }
 ],
 "metadata": {
  "kernelspec": {
   "display_name": "Python 3",
   "language": "python",
   "name": "python3"
  },
  "language_info": {
   "codemirror_mode": {
    "name": "ipython",
    "version": 2
   },
   "file_extension": ".py",
   "mimetype": "text/x-python",
   "name": "python",
   "nbconvert_exporter": "python",
   "pygments_lexer": "ipython2",
   "version": "2.7.6"
  }
 },
 "nbformat": 4,
 "nbformat_minor": 0
}
